{
 "cells": [
  {
   "cell_type": "markdown",
   "id": "4a1cb837-dc43-411e-ba07-54154ed4c634",
   "metadata": {},
   "source": [
    "# Evaluator with more manual steps"
   ]
  },
  {
   "cell_type": "code",
   "execution_count": 8,
   "id": "07a86aeb-77ec-4868-9b9c-67ccfdb189e1",
   "metadata": {},
   "outputs": [],
   "source": [
    "%%capture\n",
    "#########################\n",
    "# Requirements and Imports\n",
    "#########################\n",
    "%pip install \"gymnasium[atari, accept-rom-license]\"\n",
    "\n",
    "from os import path\n",
    "import ipywidgets as widgets\n",
    "from pathlib import Path\n",
    "\n",
    "import torch\n",
    "import numpy as np\n",
    "import random"
   ]
  },
  {
   "cell_type": "markdown",
   "id": "6142cad3",
   "metadata": {},
   "source": [
    "## Reproducibility"
   ]
  },
  {
   "cell_type": "code",
   "execution_count": 9,
   "id": "2155d626-4e0c-44b1-9ee4-1a424916a69b",
   "metadata": {},
   "outputs": [
    {
     "data": {
      "application/vnd.jupyter.widget-view+json": {
       "model_id": "c1522f8238aa4e649899af57c060b395",
       "version_major": 2,
       "version_minor": 0
      },
      "text/plain": [
       "Checkbox(value=True, description='Reproducibility')"
      ]
     },
     "metadata": {},
     "output_type": "display_data"
    }
   ],
   "source": [
    "reproducibility_field = widgets.Checkbox(\n",
    "    value = True,\n",
    "    description = \"Reproducibility\",\n",
    "    disabled = False\n",
    ")\n",
    "display(reproducibility_field)"
   ]
  },
  {
   "cell_type": "code",
   "execution_count": 10,
   "id": "2dfd398b-cdbe-4a1b-a4fc-a2c7d6032028",
   "metadata": {},
   "outputs": [
    {
     "data": {
      "application/vnd.jupyter.widget-view+json": {
       "model_id": "9e628d36fed544c1a937bfdd802ba5e9",
       "version_major": 2,
       "version_minor": 0
      },
      "text/plain": [
       "IntText(value=0, description='Seed:')"
      ]
     },
     "metadata": {},
     "output_type": "display_data"
    }
   ],
   "source": [
    "reproducibility = reproducibility_field.value\n",
    "if reproducibility:\n",
    "    seed_field = widgets.IntText(\n",
    "        value=0,\n",
    "        placeholder=0,\n",
    "        description=\"Seed:\",\n",
    "        disabled=False\n",
    "    )\n",
    "    display(seed_field)"
   ]
  },
  {
   "cell_type": "code",
   "execution_count": 11,
   "id": "82c5d65a-e6d0-4bb6-9bfa-10d9ac2df1d5",
   "metadata": {},
   "outputs": [
    {
     "name": "stdout",
     "output_type": "stream",
     "text": [
      "0\n"
     ]
    }
   ],
   "source": [
    "# Set seeds for PRGs\n",
    "\n",
    "reproducibility = reproducibility_field.value\n",
    "if reproducibility:\n",
    "    seed = seed_field.value\n",
    "    print(seed)\n",
    "    \n",
    "    random.seed(seed)\n",
    "    torch.manual_seed(seed)\n",
    "    np.random.seed(seed)\n",
    "    \n",
    "    # Use deterministic Algorithms\n",
    "    torch.use_deterministic_algorithms(True)\n",
    "    torch.utils.deterministic.fill_uninitialized_memory = True"
   ]
  },
  {
   "cell_type": "markdown",
   "id": "22bb008f-3cfa-4020-8fd6-f6180c0b5844",
   "metadata": {
    "editable": true,
    "slideshow": {
     "slide_type": ""
    },
    "tags": []
   },
   "source": [
    "## Game Selection"
   ]
  },
  {
   "cell_type": "code",
   "execution_count": 12,
   "id": "9e239221",
   "metadata": {},
   "outputs": [
    {
     "name": "stdout",
     "output_type": "stream",
     "text": [
      "['Adventure', 'AirRaid', 'Alien', 'Amidar', 'Assault', 'Asterix', 'Asteroids', 'Atlantis', 'BankHeist', 'BattleZone', 'BeamRider', 'Berzerk', 'Bowling', 'Boxing', 'Breakout', 'Carnival', 'Centipede', 'ChopperCommand', 'CrazyClimber', 'DemonAttack', 'DonkeyKong', 'DoubleDunk', 'Enduro', 'FishingDerby', 'Freeway', 'Frogger', 'Frostbite', 'Galaxian', 'Gopher', 'Hero', 'IceHockey', 'Jamesbond', 'Kangaroo', 'KeystoneKapers', 'KingKong', 'Krull', 'KungFuMaster', 'MarioBros', 'MontezumaRevenge', 'MsPacman', 'NameThisGame', 'Pacman', 'Phoenix', 'Pitfall', 'Pitfall2', 'Pong', 'Pooyan', 'PrivateEye', 'Qbert', 'Riverraid', 'RoadRunner', 'Seaquest', 'Skiing', 'SpaceInvaders', 'StarGunner', 'Tennis', 'TimePilot', 'UpNDown', 'Venture', 'VideoPinball', 'YarsRevenge', 'Zaxxon']\n"
     ]
    }
   ],
   "source": [
    "import ocatari\n",
    "all_games = ocatari.core.AVAILABLE_GAMES\n",
    "print(all_games)"
   ]
  },
  {
   "cell_type": "code",
   "execution_count": 13,
   "id": "bd4a5969-bcfc-484f-802a-3df8a8de1763",
   "metadata": {
    "jupyter": {
     "source_hidden": true
    }
   },
   "outputs": [
    {
     "data": {
      "application/vnd.jupyter.widget-view+json": {
       "model_id": "5e06199c9dcd4fc9a29d84b94a205e56",
       "version_major": 2,
       "version_minor": 0
      },
      "text/plain": [
       "Select(description='Game:', index=21, layout=Layout(width='30%'), options=('Amidar', 'Assault', 'Asterix', 'At…"
      ]
     },
     "metadata": {},
     "output_type": "display_data"
    }
   ],
   "source": [
    "hack_games = [x.name.replace('.py', '') for x in Path('../hackatari/games').glob('*.py') if x.is_file() and x.name != '__init__.py']\n",
    "\n",
    "games_option = []\n",
    "for g in all_games:\n",
    "    if g.lower() in hack_games:\n",
    "        games_option.append(g)\n",
    "\n",
    "\n",
    "game_selector = widgets.Select(\n",
    "    options = games_option,\n",
    "    value = \"Pong\",\n",
    "    description = 'Game:',\n",
    "    disabled = False,\n",
    ")\n",
    "game_selector.layout.width = '30%'\n",
    "display(game_selector)"
   ]
  },
  {
   "cell_type": "code",
   "execution_count": 14,
   "id": "94d47732-3147-492e-8db4-746b16b2431b",
   "metadata": {},
   "outputs": [
    {
     "data": {
      "text/plain": [
       "'Pong'"
      ]
     },
     "execution_count": 14,
     "metadata": {},
     "output_type": "execute_result"
    }
   ],
   "source": [
    "selected_game = game_selector.value\n",
    "selected_game"
   ]
  },
  {
   "cell_type": "markdown",
   "id": "77a2333c",
   "metadata": {},
   "source": []
  },
  {
   "cell_type": "markdown",
   "id": "4797d52b-ee5a-44c9-ad17-fbf7e9007e1d",
   "metadata": {},
   "source": [
    "# Model Selection"
   ]
  },
  {
   "cell_type": "code",
   "execution_count": 16,
   "id": "bf06c346-ff9c-4d6c-8351-119079a4608a",
   "metadata": {},
   "outputs": [
    {
     "data": {
      "application/vnd.jupyter.widget-view+json": {
       "model_id": "39532e20c336443c8979c2e98400e10f",
       "version_major": 2,
       "version_minor": 0
      },
      "text/plain": [
       "HBox(children=(Text(value='../models', description='Relative Path:', layout=Layout(width='30%'), placeholder='…"
      ]
     },
     "metadata": {},
     "output_type": "display_data"
    },
    {
     "data": {
      "application/vnd.jupyter.widget-view+json": {
       "model_id": "eaea4d9ab55e42fab9e049fb394ca451",
       "version_major": 2,
       "version_minor": 0
      },
      "text/plain": [
       "Output()"
      ]
     },
     "metadata": {},
     "output_type": "display_data"
    }
   ],
   "source": [
    "from IPython.display import display, clear_output\n",
    "import os\n",
    "\n",
    "model_dir_input = widgets.Text(\n",
    "    value='../models',\n",
    "    placeholder='Enter relative path...',\n",
    "    description='Relative Path:',\n",
    "    disabled=False,\n",
    "    layout={'width': '30%'}\n",
    ")\n",
    "\n",
    "output_area = widgets.Output() #create an output area for feedback\n",
    "\n",
    "def on_button_click(b):\n",
    "    global stored_path_object\n",
    "    with output_area: #capture output into the defined output area\n",
    "        clear_output() #clear previous output\n",
    "        relative_path = model_dir_input.value\n",
    "        \n",
    "        if os.path.exists(relative_path):\n",
    "            print(f\"Path '{relative_path}' exists. Path is stored.\")\n",
    "            stored_path_object = Path(relative_path) #create path object\n",
    "        else:\n",
    "            print(f\"Path '{relative_path}' does not exist. Path is set to None.\")\n",
    "            stored_path_object = None\n",
    "              \n",
    "\n",
    "button = widgets.Button(description=\"Verify Model Path\")\n",
    "button.on_click(on_button_click)\n",
    "\n",
    "input_and_button = widgets.HBox([model_dir_input, button]) # create hbox\n",
    "\n",
    "# Display the widget\n",
    "display(input_and_button, output_area)\n"
   ]
  },
  {
   "cell_type": "code",
   "execution_count": 20,
   "id": "a45eb8fe",
   "metadata": {},
   "outputs": [
    {
     "data": {
      "application/vnd.jupyter.widget-view+json": {
       "model_id": "12dbe31a24da4e4ea952b7adde5989af",
       "version_major": 2,
       "version_minor": 0
      },
      "text/plain": [
       "SelectMultiple(description='Select Models', layout=Layout(width='30%'), options=(PosixPath('../models/Pong/0/c…"
      ]
     },
     "metadata": {},
     "output_type": "display_data"
    }
   ],
   "source": [
    "models = []\n",
    "for model_pattern in [f'{selected_game}/**/*.gz', f'{selected_game}/**/*.*model']:\n",
    "    models.extend(stored_path_object.glob(model_pattern))\n",
    "\n",
    "if len(models) == 0:\n",
    "    print(f\"No models found for game '{selected_game}'.\")\n",
    "else:\n",
    "    models.sort()\n",
    "    model_selector = widgets.SelectMultiple(\n",
    "        options=models,\n",
    "        value=[],\n",
    "        description=\"Select Models\",\n",
    "        display=\"flex\",\n",
    "        flew_flow=\"column\",\n",
    "        align_items=\"stretch\",\n",
    "        style={\"description_width\": \"initial\"},\n",
    "        disabled=False\n",
    "    )\n",
    "    model_selector.layout.width = '30%'\n",
    "    display(model_selector)\n"
   ]
  },
  {
   "cell_type": "code",
   "execution_count": 27,
   "id": "fd341552",
   "metadata": {},
   "outputs": [
    {
     "data": {
      "text/plain": [
       "[PosixPath('../models/Pong/2/c51_classic_50M.gz')]"
      ]
     },
     "execution_count": 27,
     "metadata": {},
     "output_type": "execute_result"
    }
   ],
   "source": [
    "models_list = list(model_selector.value)\n",
    "assert models_list, \"Please select at least one model\"\n",
    "models_list"
   ]
  },
  {
   "cell_type": "markdown",
   "id": "23f40362",
   "metadata": {},
   "source": [
    "# Setup commands arguments"
   ]
  },
  {
   "cell_type": "markdown",
   "id": "5a3894e5",
   "metadata": {},
   "source": [
    "### Load and select available modfications"
   ]
  },
  {
   "cell_type": "code",
   "execution_count": 22,
   "id": "fd1e3323",
   "metadata": {},
   "outputs": [
    {
     "data": {
      "application/vnd.jupyter.widget-view+json": {
       "model_id": "70eb357d060249f18bbd21f738513c24",
       "version_major": 2,
       "version_minor": 0
      },
      "text/plain": [
       "VBox(children=(HBox(children=(Label(value=' ball_x_prev', layout=Layout(width='10%')), Label(value=\"\\n\\tint([x…"
      ]
     },
     "metadata": {},
     "output_type": "display_data"
    }
   ],
   "source": [
    "import hackatari.core as core\n",
    "\n",
    "avail_mod_for_game = core._available_modifications(selected_game).split('*')[1:]\n",
    "modifies_list = [mod.split(':') for mod in avail_mod_for_game]\n",
    "\n",
    "modifies_selector = widgets.VBox([\n",
    "        widgets.HBox([\n",
    "            widgets.Label(value=mod_name, layout={'width': '10%'}),\n",
    "            widgets.Label(value=mod_info, layout={'width': '50%'}),\n",
    "            widgets.Dropdown(options=[True, False], value=False, description='Value:',layout={'width': '15%'}, justify_content = 'flex-end')\n",
    "        ], justify_content = 'space-between') for mod_name, mod_info in modifies_list\n",
    "    ], layout={'width': '75%'})\n",
    "\n",
    "display(modifies_selector)"
   ]
  },
  {
   "cell_type": "code",
   "execution_count": 23,
   "id": "56c46c81",
   "metadata": {},
   "outputs": [
    {
     "name": "stdout",
     "output_type": "stream",
     "text": [
      "-m right_drift\n"
     ]
    }
   ],
   "source": [
    "mod_args = ' '.join([f'{mod.children[0].value.strip()}' for mod in modifies_selector.children if mod.children[2].value])\n",
    "if mod_args:\n",
    "    mod_args = f'-m {mod_args}'\n",
    "    print(mod_args)"
   ]
  },
  {
   "cell_type": "markdown",
   "id": "3b1817e3",
   "metadata": {},
   "source": [
    "### Setup other arguments for executing commands"
   ]
  },
  {
   "cell_type": "code",
   "execution_count": null,
   "id": "6dc8e4af",
   "metadata": {},
   "outputs": [
    {
     "data": {
      "application/vnd.jupyter.widget-view+json": {
       "model_id": "fdfddb2f0e2142e3a0fac0499cd66c62",
       "version_major": 2,
       "version_minor": 0
      },
      "text/plain": [
       "VBox(children=(Label(value=\"For the selected game 'Pong':\"), HBox(children=(Dropdown(description='game mode:',…"
      ]
     },
     "metadata": {},
     "output_type": "display_data"
    }
   ],
   "source": [
    "from ocatari.core import OCAtari\n",
    "# parameters: difficulty and game_mode\n",
    "g = OCAtari(selected_game)\n",
    "\n",
    "game_text = widgets.Label  (\n",
    "    value=f\"For the selected game '{selected_game}':\",\n",
    "    disabled=False\n",
    ")\n",
    "\n",
    "mode_dropdown = widgets.Dropdown(\n",
    "    options=g.env.env.ale.getAvailableModes(),\n",
    "    value=0,\n",
    "    description='game mode:',\n",
    "    disabled=False,\n",
    "    layout = {'width':'10%'}\n",
    ")\n",
    "\n",
    "difficulty_dropdown = widgets.Dropdown(\n",
    "    options=g.env.env.ale.getAvailableDifficulties(),\n",
    "    value=0,\n",
    "    description='difficulty:',\n",
    "    disabled=False,\n",
    "    layout = {'width':'10%'}\n",
    ")\n",
    "\n",
    "g.close()\n",
    "\n",
    "\n",
    "dp_dropdown = widgets.Dropdown(\n",
    "    options=[True, False],\n",
    "    value=False,\n",
    "    description='dopamine_pooling:',\n",
    "    style={'description_width': 'initial'},\n",
    "    #layout=widgets.Layout(width='300px'),\n",
    "    disabled=False,\n",
    "    layout = {'width':'15%'}\n",
    ")\n",
    "\n",
    "window_inttext = widgets.IntText(\n",
    "    value=4,\n",
    "    description='window_size:',\n",
    "    style={'description_width': 'initial'},\n",
    "    layout=widgets.Layout(width='120px'),\n",
    "    disabled=False,\n",
    "    #layout = {'width':'10%'}\n",
    ")\n",
    "\n",
    "frameskip_inttext = widgets.IntText(\n",
    "    value=4,\n",
    "    description='frameskip:',\n",
    "    disabled=False,\n",
    "    layout=widgets.Layout(width='120px'),\n",
    "    #layout = {'width':'10%'}\n",
    ")\n",
    "\n",
    "has_dqn_model = any([ (\"dqn\" in model.as_posix() or \"c51\" in model.as_posix()) for model in models_list])\n",
    "\n",
    "obs_dropdown = widgets.Dropdown(\n",
    "    options=['dqn'] if has_dqn_model else ['ori', 'obj'],\n",
    "    value='dqn' if has_dqn_model else 'obj',\n",
    "    description='obs_mode:',\n",
    "    disabled=False,\n",
    "    layout = {'width':'10%'}\n",
    ")\n",
    "\n",
    "episodes_inttext = widgets.IntText(\n",
    "    value=10,\n",
    "    description='num_episodes:',\n",
    "    style={'description_width': 'initial'},\n",
    "    layout=widgets.Layout(width='150px'),\n",
    "    disabled=False,\n",
    "    #layout = {'width':'10%'}\n",
    ")\n",
    "\n",
    "parameters_selector =  widgets.VBox( [game_text, \n",
    "                                     widgets.HBox([mode_dropdown, difficulty_dropdown, dp_dropdown, window_inttext, frameskip_inttext, obs_dropdown, episodes_inttext],\n",
    "                                                  justify_content = 'space-between', layout = {'width':'100%'})\n",
    "])\n",
    "\n",
    "# Display the widgets\n",
    "display(parameters_selector)\n",
    "\n"
   ]
  },
  {
   "cell_type": "code",
   "execution_count": 29,
   "id": "2a9d0212",
   "metadata": {},
   "outputs": [
    {
     "name": "stdout",
     "output_type": "stream",
     "text": [
      " -mo 0 -d 0 -w 4 -f 4 -obs dqn\n"
     ]
    }
   ],
   "source": [
    "stored_parameter = \"\"\n",
    "stored_parameter += f\" -mo {mode_dropdown.value}\"\n",
    "stored_parameter += f\" -d {difficulty_dropdown.value}\"\n",
    "stored_parameter += \" -dp\" if dp_dropdown.value else \"\"\n",
    "stored_parameter += f\" -w {window_inttext.value}\"\n",
    "stored_parameter += f\" -f {frameskip_inttext.value}\"\n",
    "stored_parameter += f\" -obs {obs_dropdown.value}\" if obs_dropdown.value else \"\"\n",
    "\n",
    "print(stored_parameter)\n",
    "\n",
    "eval_parameter = f\" -e {episodes_inttext.value}\""
   ]
  },
  {
   "cell_type": "markdown",
   "id": "95e50389",
   "metadata": {},
   "source": [
    "# Run Game"
   ]
  },
  {
   "cell_type": "code",
   "execution_count": 30,
   "id": "f9d54092",
   "metadata": {},
   "outputs": [
    {
     "name": "stdout",
     "output_type": "stream",
     "text": [
      "Project Root: /mnt/c/Users/peng_/workspace/tmp/HackAtari\n"
     ]
    }
   ],
   "source": [
    "## prepare for the command\n",
    "eval_script = Path(r\"scripts/eval.py\")\n",
    "run_script = Path(r\"scripts/run.py\")\n",
    "\n",
    "notebook_dir = path.abspath(\"\")\n",
    "project_root = path.dirname(notebook_dir)\n",
    "print(f\"Project Root: {project_root}\")\n",
    "\n",
    "# use posix_paths for compatibile with different OS\n",
    "eval_path = (Path(project_root) / eval_script).as_posix()\n",
    "run_path = (Path(project_root) / run_script).as_posix()"
   ]
  },
  {
   "cell_type": "markdown",
   "id": "fe63de92",
   "metadata": {},
   "source": [
    "### Execuate the command with eval.py (multiple modes)"
   ]
  },
  {
   "cell_type": "code",
   "execution_count": 31,
   "id": "ce1f14b4",
   "metadata": {},
   "outputs": [
    {
     "name": "stdout",
     "output_type": "stream",
     "text": [
      "eval command: python /mnt/c/Users/peng_/workspace/tmp/HackAtari/scripts/eval.py -g Pong -a ../models/Pong/2/c51_classic_50M.gz -m right_drift  -mo 0 -d 0 -w 4 -f 4 -obs dqn  -e 10\n",
      "A.L.E: Arcade Learning Environment (version 0.10.2+c9d4b19)\n",
      "[Powered by Stella]\n",
      "Runing for episodes: 10\n",
      "Loaded agent from ../models/Pong/2/c51_classic_50M.gz\n",
      "Episode 1: Reward = -21.0, Time = 1.23 seconds with 707 steps and actions: {0: 116, 1: 236, 2: 46, 3: 144, 4: 11, 5: 154}\n",
      "Episode 2: Reward = -21.0, Time = 0.70 seconds with 707 steps and actions: {0: 108, 1: 245, 2: 31, 3: 130, 4: 25, 5: 168}\n",
      "Episode 3: Reward = -21.0, Time = 0.75 seconds with 708 steps and actions: {0: 108, 1: 240, 2: 43, 3: 125, 4: 13, 5: 179}\n",
      "Episode 4: Reward = -21.0, Time = 0.83 seconds with 707 steps and actions: {0: 116, 1: 240, 2: 28, 3: 136, 4: 23, 5: 164}\n",
      "Episode 5: Reward = -21.0, Time = 0.76 seconds with 708 steps and actions: {0: 106, 1: 245, 2: 41, 3: 129, 4: 12, 5: 175}\n",
      "Episode 6: Reward = -21.0, Time = 0.74 seconds with 707 steps and actions: {0: 117, 1: 234, 2: 33, 3: 131, 4: 24, 5: 168}\n",
      "Episode 7: Reward = -21.0, Time = 0.73 seconds with 708 steps and actions: {0: 117, 1: 234, 2: 44, 3: 130, 4: 14, 5: 169}\n",
      "Episode 8: Reward = -21.0, Time = 0.74 seconds with 707 steps and actions: {0: 128, 1: 229, 2: 31, 3: 127, 4: 26, 5: 166}\n",
      "Episode 9: Reward = -21.0, Time = 0.70 seconds with 708 steps and actions: {0: 114, 1: 228, 2: 41, 3: 129, 4: 13, 5: 183}\n",
      "Episode 10: Reward = -21.0, Time = 0.74 seconds with 707 steps and actions: {0: 106, 1: 244, 2: 32, 3: 129, 4: 26, 5: 170}\n",
      "\n",
      "Summary:\n",
      "Agent: ../models/Pong/2/c51_classic_50M.gz\n",
      "Total Episodes: 10\n",
      "Average Reward: -21.00\n",
      "Reward Standard Deviation: 0.00\n",
      "Min Reward: -21.0\n",
      "Max Reward: -21.0\n",
      "Average Time: 0.79 seconds\n",
      "Time Standard Deviation: 0.15 seconds\n",
      "Min Time: 0.70 seconds\n",
      "Max Step: 1.23 seconds\n",
      "Average Step: 707.40 steps\n",
      "Step Standard Deviation: 0.49 steps\n",
      "Min Step: 707 steps\n",
      "Max Step: 708 steps\n",
      "--------------------------------------\n",
      "------------------------------------------------\n",
      "Overall Average Reward: -21.00, Time: 0.79 seconds and 707.40 steps\n",
      "Overall Reward Standard Deviation: 0.00, Time Standard Deviation: 0.15 seconds, Step Standard Deviation: 0.49\n",
      "------------------------------------------------\n"
     ]
    }
   ],
   "source": [
    "# \"eval.py\" can accept a list of models\n",
    "models_path = ' '.join( f'{model.as_posix()}' for model in models_list )\n",
    "\n",
    "\n",
    "eval_command = f\"python {eval_path} -g {selected_game} -a {models_path} {mod_args} {stored_parameter} {eval_parameter}\"\n",
    "\n",
    "print(\"eval command: \" + eval_command)\n",
    "\n",
    "!{eval_command}"
   ]
  },
  {
   "cell_type": "markdown",
   "id": "a243c5f3",
   "metadata": {},
   "source": [
    "### Execute the command with run.py (accept only one model and visualize each espiode)"
   ]
  },
  {
   "cell_type": "code",
   "execution_count": 35,
   "id": "30b9ea05",
   "metadata": {},
   "outputs": [
    {
     "data": {
      "application/vnd.jupyter.widget-view+json": {
       "model_id": "0d871b2bfff548328b2b1f7c519f17f7",
       "version_major": 2,
       "version_minor": 0
      },
      "text/plain": [
       "Dropdown(description='Select one model to play', layout=Layout(width='30%'), options=(PosixPath('../models/Pon…"
      ]
     },
     "metadata": {},
     "output_type": "display_data"
    }
   ],
   "source": [
    "# \"run.py\" can only accept one model\n",
    "assert len(models_list) > 0, \"Please select at least one model\"\n",
    "\n",
    "run_model_dropdown = widgets.Dropdown(\n",
    "    options=models_list,\n",
    "    value=models_list[0],\n",
    "    description=\"Select one model to play\",\n",
    "    style={'description_width': 'initial'},\n",
    "    disabled=False,\n",
    "    layout = {'width':'30%'}\n",
    ")\n",
    "\n",
    "display(run_model_dropdown)"
   ]
  },
  {
   "cell_type": "code",
   "execution_count": 36,
   "id": "3f071cea",
   "metadata": {},
   "outputs": [
    {
     "name": "stdout",
     "output_type": "stream",
     "text": [
      "run command: python /mnt/c/Users/peng_/workspace/HackAtari/scripts/run.py -g Pong -a ../models/Pong/0/c51_classic_50M.gz -m down_drift left_drift  -mo 0 -d 0 -w 4 -f 4 -obs dqn\n",
      "A.L.E: Arcade Learning Environment (version 0.10.2+c9d4b19)\n",
      "[Powered by Stella]\n",
      "Loaded agent from ../models/Pong/0/c51_classic_50M.gz\n"
     ]
    }
   ],
   "source": [
    "\n",
    "model_path = f'{run_model_dropdown.value.as_posix()}'\n",
    "\n",
    "run_command = f\"python {run_path} -g {selected_game} -a {model_path} {mod_args} {stored_parameter}\"\n",
    "print(\"run command: \" + run_command)\n",
    "\n",
    "!{run_command}"
   ]
  }
 ],
 "metadata": {
  "kernelspec": {
   "display_name": ".venv",
   "language": "python",
   "name": "python3"
  },
  "language_info": {
   "codemirror_mode": {
    "name": "ipython",
    "version": 3
   },
   "file_extension": ".py",
   "mimetype": "text/x-python",
   "name": "python",
   "nbconvert_exporter": "python",
   "pygments_lexer": "ipython3",
   "version": "3.11.11"
  }
 },
 "nbformat": 4,
 "nbformat_minor": 5
}
