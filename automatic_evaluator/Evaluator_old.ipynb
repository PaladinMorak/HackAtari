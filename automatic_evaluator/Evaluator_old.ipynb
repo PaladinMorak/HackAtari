{
 "cells": [
  {
   "cell_type": "markdown",
   "id": "4a1cb837-dc43-411e-ba07-54154ed4c634",
   "metadata": {},
   "source": [
    "# Automatic Evaluator"
   ]
  },
  {
   "cell_type": "code",
   "execution_count": 1,
   "id": "07a86aeb-77ec-4868-9b9c-67ccfdb189e1",
   "metadata": {},
   "outputs": [],
   "source": [
    "%%capture\n",
    "#########################\n",
    "# Requirements and Imports\n",
    "#########################\n",
    "!pip install ipywidgets\n",
    "!pip install widgetsnbextension\n",
    "\n",
    "from os import path\n",
    "import ipywidgets as widgets\n",
    "from pathlib import Path\n",
    "\n",
    "import torch\n",
    "import numpy as np\n",
    "import random"
   ]
  },
  {
   "cell_type": "code",
   "execution_count": 2,
   "id": "2155d626-4e0c-44b1-9ee4-1a424916a69b",
   "metadata": {},
   "outputs": [
    {
     "data": {
      "application/vnd.jupyter.widget-view+json": {
       "model_id": "7fae3985371446a7a56a048293a2d310",
       "version_major": 2,
       "version_minor": 0
      },
      "text/plain": [
       "Checkbox(value=True, description='Reproducibility')"
      ]
     },
     "metadata": {},
     "output_type": "display_data"
    }
   ],
   "source": [
    "reproducibility_field = widgets.Checkbox(\n",
    "    value = True,\n",
    "    description = \"Reproducibility\",\n",
    "    disabled = False\n",
    ")\n",
    "display(reproducibility_field)"
   ]
  },
  {
   "cell_type": "code",
   "execution_count": 3,
   "id": "2dfd398b-cdbe-4a1b-a4fc-a2c7d6032028",
   "metadata": {},
   "outputs": [
    {
     "data": {
      "application/vnd.jupyter.widget-view+json": {
       "model_id": "21ed07aba487466a94c25d62c9cf32f5",
       "version_major": 2,
       "version_minor": 0
      },
      "text/plain": [
       "IntText(value=0, description='Seed:')"
      ]
     },
     "metadata": {},
     "output_type": "display_data"
    }
   ],
   "source": [
    "reproducibility = reproducibility_field.value\n",
    "if reproducibility:\n",
    "    seed_field = widgets.IntText(\n",
    "        value=0,\n",
    "        placeholder=0,\n",
    "        description=\"Seed:\",\n",
    "        disabled=False\n",
    "    )\n",
    "    display(seed_field)"
   ]
  },
  {
   "cell_type": "code",
   "execution_count": 4,
   "id": "82c5d65a-e6d0-4bb6-9bfa-10d9ac2df1d5",
   "metadata": {},
   "outputs": [
    {
     "name": "stdout",
     "output_type": "stream",
     "text": [
      "0\n"
     ]
    }
   ],
   "source": [
    "# Set seeds for PRGs\n",
    "\n",
    "reproducibility = reproducibility_field.value\n",
    "if reproducibility:\n",
    "    seed = seed_field.value\n",
    "    print(seed)\n",
    "    \n",
    "    random.seed(seed)\n",
    "    torch.manual_seed(seed)\n",
    "    np.random.seed(seed)\n",
    "    \n",
    "    # Use deterministic Algorithms\n",
    "    torch.use_deterministic_algorithms(True)\n",
    "    torch.utils.deterministic.fill_uninitialized_memory = True"
   ]
  },
  {
   "cell_type": "markdown",
   "id": "22bb008f-3cfa-4020-8fd6-f6180c0b5844",
   "metadata": {
    "editable": true,
    "slideshow": {
     "slide_type": ""
    },
    "tags": []
   },
   "source": [
    "## Game Selection"
   ]
  },
  {
   "cell_type": "code",
   "execution_count": 5,
   "id": "9e239221",
   "metadata": {},
   "outputs": [
    {
     "name": "stdout",
     "output_type": "stream",
     "text": [
      "['Adventure', 'AirRaid', 'Alien', 'Amidar', 'Assault', 'Asterix', 'Asteroids', 'Atlantis', 'BankHeist', 'BattleZone', 'BeamRider', 'Berzerk', 'Bowling', 'Boxing', 'Breakout', 'Carnival', 'Centipede', 'ChopperCommand', 'CrazyClimber', 'DemonAttack', 'DonkeyKong', 'DoubleDunk', 'Enduro', 'FishingDerby', 'Freeway', 'Frogger', 'Frostbite', 'Galaxian', 'Gopher', 'Hero', 'IceHockey', 'Jamesbond', 'Kangaroo', 'KeystoneKapers', 'KingKong', 'Krull', 'KungFuMaster', 'MarioBros', 'MontezumaRevenge', 'MsPacman', 'NameThisGame', 'Pacman', 'Phoenix', 'Pitfall', 'Pong', 'Pooyan', 'PrivateEye', 'Qbert', 'Riverraid', 'RoadRunner', 'Seaquest', 'Skiing', 'SpaceInvaders', 'StarGunner', 'Tennis', 'TimePilot', 'UpNDown', 'Venture', 'VideoPinball', 'YarsRevenge', 'Zaxxon']\n"
     ]
    }
   ],
   "source": [
    "import ocatari\n",
    "all_games = ocatari.core.AVAILABLE_GAMES\n",
    "print(all_games)"
   ]
  },
  {
   "cell_type": "code",
   "execution_count": 6,
   "id": "bd4a5969-bcfc-484f-802a-3df8a8de1763",
   "metadata": {
    "jupyter": {
     "source_hidden": true
    }
   },
   "outputs": [
    {
     "data": {
      "application/vnd.jupyter.widget-view+json": {
       "model_id": "426b3a35623f4b52b8ab0fe1d610e568",
       "version_major": 2,
       "version_minor": 0
      },
      "text/plain": [
       "Select(description='Game:', index=21, layout=Layout(width='30%'), options=('Amidar', 'Assault', 'Asterix', 'At…"
      ]
     },
     "metadata": {},
     "output_type": "display_data"
    }
   ],
   "source": [
    "hack_games = [x.name.replace('.py', '') for x in Path('../hackatari/games').glob('*.py') if x.is_file() and x.name != '__init__.py']\n",
    "\n",
    "games_option = []\n",
    "for g in all_games:\n",
    "    if g.lower() in hack_games:\n",
    "        games_option.append(g)\n",
    "\n",
    "\n",
    "game_selector = widgets.Select(\n",
    "    options = games_option,\n",
    "    value = \"Pong\",\n",
    "    description = 'Game:',\n",
    "    disabled = False,\n",
    ")\n",
    "game_selector.layout.width = '30%'\n",
    "display(game_selector)"
   ]
  },
  {
   "cell_type": "code",
   "execution_count": 7,
   "id": "94d47732-3147-492e-8db4-746b16b2431b",
   "metadata": {},
   "outputs": [
    {
     "data": {
      "text/plain": [
       "'Pong'"
      ]
     },
     "execution_count": 7,
     "metadata": {},
     "output_type": "execute_result"
    }
   ],
   "source": [
    "selected_game = game_selector.value\n",
    "selected_game"
   ]
  },
  {
   "cell_type": "markdown",
   "id": "4797d52b-ee5a-44c9-ad17-fbf7e9007e1d",
   "metadata": {},
   "source": [
    "# Model Selection"
   ]
  },
  {
   "cell_type": "code",
   "execution_count": 58,
   "id": "bf06c346-ff9c-4d6c-8351-119079a4608a",
   "metadata": {},
   "outputs": [
    {
     "data": {
      "application/vnd.jupyter.widget-view+json": {
       "model_id": "193c8e98f2094585bb3a86adeb6348e7",
       "version_major": 2,
       "version_minor": 0
      },
      "text/plain": [
       "SelectMultiple(description='Select Models', layout=Layout(width='30%'), options=(PosixPath('../models/Pong/0/c…"
      ]
     },
     "metadata": {},
     "output_type": "display_data"
    }
   ],
   "source": [
    "models = [m for m in Path('../models').glob('**/*.gz') if m.is_file() and selected_game.lower() in str(m).lower()]\n",
    "\n",
    "model_selector = widgets.SelectMultiple(\n",
    "    options=models,\n",
    "    value=[],\n",
    "    description=\"Select Models\",\n",
    "    display=\"flex\",\n",
    "    flew_flow=\"column\",\n",
    "    align_items=\"stretch\",\n",
    "    style={\"description_width\": \"initial\"},\n",
    "    disabled=False\n",
    ")\n",
    "model_selector.layout.width = '30%'\n",
    "display(model_selector)\n"
   ]
  },
  {
   "cell_type": "code",
   "execution_count": 87,
   "id": "fd341552",
   "metadata": {},
   "outputs": [
    {
     "data": {
      "text/plain": [
       "[PosixPath('../models/Pong/0/c51_classic_50M.gz'),\n",
       " PosixPath('../models/Pong/0/dqn_modern_50M.gz'),\n",
       " PosixPath('../models/Pong/0/mdqn_modern_50M.gz')]"
      ]
     },
     "execution_count": 87,
     "metadata": {},
     "output_type": "execute_result"
    }
   ],
   "source": [
    "models_list = list(model_selector.value)\n",
    "assert models_list, \"Please select at least one model\"\n",
    "models_list"
   ]
  },
  {
   "cell_type": "markdown",
   "id": "da9a3f29",
   "metadata": {},
   "source": [
    "# Add Run Arguments"
   ]
  },
  {
   "cell_type": "code",
   "execution_count": 52,
   "id": "c6d5d160",
   "metadata": {},
   "outputs": [
    {
     "data": {
      "application/vnd.jupyter.widget-view+json": {
       "model_id": "0f0cbae6aa064aa39a32e8260821a00e",
       "version_major": 2,
       "version_minor": 0
      },
      "text/plain": [
       "HBox(children=(Text(value='--human', description='Let user play', disabled=True), Dropdown(description='Type:'…"
      ]
     },
     "metadata": {},
     "output_type": "display_data"
    }
   ],
   "source": [
    "# Human player option. If True, the game will wait for user input to play.\n",
    "human_player = widgets.HBox([\n",
    "    widgets.Text(value='--human', description='Let user play', disabled=True),\n",
    "    widgets.Dropdown(options=[True, False], value=False, description='Type:', disabled=False)\n",
    "])\n",
    "\n",
    "display(human_player)"
   ]
  },
  {
   "cell_type": "code",
   "execution_count": 49,
   "id": "f1139797",
   "metadata": {},
   "outputs": [],
   "source": [
    "human_opt = '-hu' if human_player.children[1].value else None"
   ]
  },
  {
   "cell_type": "code",
   "execution_count": 13,
   "id": "fd1e3323",
   "metadata": {},
   "outputs": [
    {
     "data": {
      "application/vnd.jupyter.widget-view+json": {
       "model_id": "df3da1f2b0834ffb9b4ab3256f36e016",
       "version_major": 2,
       "version_minor": 0
      },
      "text/plain": [
       "VBox(children=(HBox(children=(Label(value=' ball_x_prev', layout=Layout(width='10%')), Label(value=\"\\n\\tint([x…"
      ]
     },
     "metadata": {},
     "output_type": "display_data"
    }
   ],
   "source": [
    "import hackatari.core as core\n",
    "\n",
    "avail_mod_for_game = core._available_modifications(selected_game).split('*')[1:]\n",
    "modifies_list = [mod.split(':') for mod in avail_mod_for_game]\n",
    "\n",
    "modifies_selector = widgets.VBox([\n",
    "        widgets.HBox([\n",
    "            widgets.Label(value=mod_name, layout={'width': '10%'}),\n",
    "            widgets.Label(value=mod_info, layout={'width': '50%'}),\n",
    "            widgets.Dropdown(options=[True, False], value=False, description='Value:',layout={'width': '15%'}, justify_content = 'flex-end')\n",
    "        ], justify_content = 'space-between') for mod_name, mod_info in modifies_list\n",
    "    ], layout={'width': '75%'})\n",
    "\n",
    "display(modifies_selector)"
   ]
  },
  {
   "cell_type": "code",
   "execution_count": 14,
   "id": "56c46c81",
   "metadata": {},
   "outputs": [
    {
     "data": {
      "text/plain": [
       "'lazy_enemy up_drift'"
      ]
     },
     "execution_count": 14,
     "metadata": {},
     "output_type": "execute_result"
    }
   ],
   "source": [
    "mod_args = ' '.join([f'{mod.children[0].value.strip()}' for mod in modifies_selector.children if mod.children[2].value])\n",
    "mod_args"
   ]
  },
  {
   "cell_type": "markdown",
   "id": "46b96acf-2684-478f-8ad2-c3f435dd12de",
   "metadata": {},
   "source": [
    "# Run Game"
   ]
  },
  {
   "cell_type": "code",
   "execution_count": 88,
   "id": "ce1f14b4",
   "metadata": {},
   "outputs": [
    {
     "name": "stdout",
     "output_type": "stream",
     "text": [
      "Project Root: /mnt/c/Users/peng_/workspace/HackAtari\n",
      "command: python /mnt/c/Users/peng_/workspace/HackAtari/scripts/eval.py -g Pong -a ../models/Pong/0/c51_classic_50M.gz ../models/Pong/0/dqn_modern_50M.gz ../models/Pong/0/mdqn_modern_50M.gz -m lazy_enemy up_drift\n"
     ]
    }
   ],
   "source": [
    "## prepare the command\n",
    "eval_script = Path(r\"scripts/eval.py\")\n",
    "run_script = Path(r\"scripts/run.py\")\n",
    "\n",
    "notebook_dir = path.abspath(\"\")\n",
    "project_root = path.dirname(notebook_dir)\n",
    "print(f\"Project Root: {project_root}\")\n",
    "\n",
    "# use posix_paths compatibile with the OS\n",
    "eval_path = (Path(project_root) / eval_script).as_posix()\n",
    "run_path = (Path(project_root) / run_script).as_posix()\n",
    "\n",
    "models_path = ' '.join( f'{model.as_posix()}' for model in models_list )\n",
    "\n",
    "if human_opt:\n",
    "    command = f\"python {run_path} -g {selected_game} {human_opt}\"\n",
    "else:\n",
    "    command = f\"python {eval_path} -g {selected_game} -a {models_path} -m {mod_args}\"\n",
    "\n",
    "print(\"command: \" + command)\n"
   ]
  },
  {
   "cell_type": "code",
   "execution_count": 84,
   "id": "2ae04dca",
   "metadata": {},
   "outputs": [
    {
     "name": "stderr",
     "output_type": "stream",
     "text": [
      "8152.54s - pydevd: Sending message related to process being replaced timed-out after 5 seconds\n"
     ]
    },
    {
     "name": "stdout",
     "output_type": "stream",
     "text": [
      "A.L.E: Arcade Learning Environment (version 0.10.2+c9d4b19)\n",
      "[Powered by Stella]\n",
      "Loaded agent from ../models/Pong/0/c51_classic_50M.gz\n",
      "Episode 1: Reward = -21.0\n",
      "Episode 2: Reward = -21.0\n",
      "Episode 3: Reward = -21.0\n",
      "Episode 4: Reward = -20.0\n",
      "Episode 5: Reward = -21.0\n",
      "Episode 6: Reward = -19.0\n",
      "Episode 7: Reward = -20.0\n",
      "Episode 8: Reward = -20.0\n",
      "Episode 9: Reward = -21.0\n",
      "Episode 10: Reward = -21.0\n",
      "\n",
      "Summary:\n",
      "Agent: ../models/Pong/0/c51_classic_50M.gz\n",
      "Total Episodes: 10\n",
      "Average Reward: -20.50\n",
      "Standard Deviation: 0.67\n",
      "Min Reward: -21.0\n",
      "Max Reward: -19.0\n",
      "--------------------------------------\n",
      "Loaded agent from ../models/Pong/0/dqn_modern_50M.gz\n",
      "Episode 1: Reward = -20.0\n",
      "Episode 2: Reward = -21.0\n",
      "Episode 3: Reward = -21.0\n",
      "Episode 4: Reward = -21.0\n",
      "Episode 5: Reward = -18.0\n",
      "Episode 6: Reward = -21.0\n",
      "Episode 7: Reward = -21.0\n",
      "Episode 8: Reward = -20.0\n",
      "Episode 9: Reward = -21.0\n",
      "Episode 10: Reward = -19.0\n",
      "\n",
      "Summary:\n",
      "Agent: ../models/Pong/0/dqn_modern_50M.gz\n",
      "Total Episodes: 10\n",
      "Average Reward: -20.30\n",
      "Standard Deviation: 1.00\n",
      "Min Reward: -21.0\n",
      "Max Reward: -18.0\n",
      "--------------------------------------\n",
      "Loaded agent from ../models/Pong/0/mdqn_modern_50M.gz\n",
      "Episode 1: Reward = -19.0\n",
      "Episode 2: Reward = -19.0\n",
      "Episode 3: Reward = -19.0\n",
      "Episode 4: Reward = -20.0\n",
      "Episode 5: Reward = -20.0\n",
      "Episode 6: Reward = -21.0\n",
      "Episode 7: Reward = -19.0\n",
      "Episode 8: Reward = -21.0\n",
      "Episode 9: Reward = -21.0\n",
      "Episode 10: Reward = -21.0\n",
      "\n",
      "Summary:\n",
      "Agent: ../models/Pong/0/mdqn_modern_50M.gz\n",
      "Total Episodes: 10\n",
      "Average Reward: -20.00\n",
      "Standard Deviation: 0.89\n",
      "Min Reward: -21.0\n",
      "Max Reward: -19.0\n",
      "--------------------------------------\n",
      "------------------------------------------------\n",
      "Overall Average Reward: -20.27\n",
      "Overall Standard Deviation: 0.89\n",
      "------------------------------------------------\n"
     ]
    }
   ],
   "source": [
    "# execute the command\n",
    "!{command}"
   ]
  },
  {
   "cell_type": "markdown",
   "id": "9172756d-9aaa-4214-8d8d-2dfe8a6264c8",
   "metadata": {},
   "source": [
    "# Evaluation"
   ]
  },
  {
   "cell_type": "code",
   "execution_count": 115,
   "id": "cb732699-43e9-4ccb-b8c8-aac2f843e3c1",
   "metadata": {},
   "outputs": [],
   "source": [
    "# add automatic_evaluator module to the path\n",
    "import os\n",
    "import sys\n",
    "module_path = os.path.abspath(os.path.join('..'))\n",
    "if module_path not in sys.path:\n",
    "    sys.path.append(module_path)\n",
    "    "
   ]
  },
  {
   "cell_type": "code",
   "execution_count": null,
   "id": "7de8374d",
   "metadata": {},
   "outputs": [],
   "source": [
    "\n",
    "from automatic_evaluator.utils import eval_withAimRun\n",
    "\n",
    "eval_withAimRun(selected_game, [ model.as_posix() for model in models_list], mod_args.split(\" \"))\n"
   ]
  },
  {
   "cell_type": "code",
   "execution_count": 121,
   "id": "5fd14b81",
   "metadata": {},
   "outputs": [],
   "source": [
    "%reload_ext aim"
   ]
  },
  {
   "cell_type": "code",
   "execution_count": 122,
   "id": "05983c3c",
   "metadata": {},
   "outputs": [
    {
     "ename": "RecursionError",
     "evalue": "maximum recursion depth exceeded",
     "output_type": "error",
     "traceback": [
      "\u001b[31m---------------------------------------------------------------------------\u001b[39m",
      "\u001b[31mRecursionError\u001b[39m                            Traceback (most recent call last)",
      "\u001b[36mCell\u001b[39m\u001b[36m \u001b[39m\u001b[32mIn[122]\u001b[39m\u001b[32m, line 2\u001b[39m\n\u001b[32m      1\u001b[39m \u001b[38;5;66;03m#clean history by re-initializing aim\u001b[39;00m\n\u001b[32m----> \u001b[39m\u001b[32m2\u001b[39m \u001b[43mget_ipython\u001b[49m\u001b[43m(\u001b[49m\u001b[43m)\u001b[49m\u001b[43m.\u001b[49m\u001b[43mrun_line_magic\u001b[49m\u001b[43m(\u001b[49m\u001b[33;43m'\u001b[39;49m\u001b[33;43maim\u001b[39;49m\u001b[33;43m'\u001b[39;49m\u001b[43m,\u001b[49m\u001b[43m \u001b[49m\u001b[33;43m'\u001b[39;49m\u001b[33;43minit\u001b[39;49m\u001b[33;43m'\u001b[39;49m\u001b[43m)\u001b[49m\n",
      "\u001b[36mFile \u001b[39m\u001b[32m~/peng_workspace/HackAtari/venv/lib/python3.11/site-packages/IPython/core/interactiveshell.py:2481\u001b[39m, in \u001b[36mInteractiveShell.run_line_magic\u001b[39m\u001b[34m(self, magic_name, line, _stack_depth)\u001b[39m\n\u001b[32m   2479\u001b[39m     kwargs[\u001b[33m'\u001b[39m\u001b[33mlocal_ns\u001b[39m\u001b[33m'\u001b[39m] = \u001b[38;5;28mself\u001b[39m.get_local_scope(stack_depth)\n\u001b[32m   2480\u001b[39m \u001b[38;5;28;01mwith\u001b[39;00m \u001b[38;5;28mself\u001b[39m.builtin_trap:\n\u001b[32m-> \u001b[39m\u001b[32m2481\u001b[39m     result = \u001b[43mfn\u001b[49m\u001b[43m(\u001b[49m\u001b[43m*\u001b[49m\u001b[43margs\u001b[49m\u001b[43m,\u001b[49m\u001b[43m \u001b[49m\u001b[43m*\u001b[49m\u001b[43m*\u001b[49m\u001b[43mkwargs\u001b[49m\u001b[43m)\u001b[49m\n\u001b[32m   2483\u001b[39m \u001b[38;5;66;03m# The code below prevents the output from being displayed\u001b[39;00m\n\u001b[32m   2484\u001b[39m \u001b[38;5;66;03m# when using magics with decorator @output_can_be_silenced\u001b[39;00m\n\u001b[32m   2485\u001b[39m \u001b[38;5;66;03m# when the last Python token in the expression is a ';'.\u001b[39;00m\n\u001b[32m   2486\u001b[39m \u001b[38;5;28;01mif\u001b[39;00m \u001b[38;5;28mgetattr\u001b[39m(fn, magic.MAGIC_OUTPUT_CAN_BE_SILENCED, \u001b[38;5;28;01mFalse\u001b[39;00m):\n",
      "\u001b[36mFile \u001b[39m\u001b[32m~/peng_workspace/HackAtari/venv/lib/python3.11/site-packages/aim/ext/notebook/notebook.py:210\u001b[39m, in \u001b[36mexecute_magic_aim\u001b[39m\u001b[34m(line)\u001b[39m\n\u001b[32m    208\u001b[39m \u001b[38;5;66;03m# check command existence\u001b[39;00m\n\u001b[32m    209\u001b[39m \u001b[38;5;28;01mif\u001b[39;00m command \u001b[38;5;129;01mnot\u001b[39;00m \u001b[38;5;129;01min\u001b[39;00m handlers:\n\u001b[32m--> \u001b[39m\u001b[32m210\u001b[39m     \u001b[38;5;28mprint\u001b[39m(\u001b[33m'\u001b[39m\u001b[33mInvalid operation.\u001b[39m\u001b[33m'\u001b[39m)\n\u001b[32m    211\u001b[39m     \u001b[38;5;28;01mreturn\u001b[39;00m\n\u001b[32m    213\u001b[39m \u001b[38;5;66;03m# call corresponding handler\u001b[39;00m\n",
      "\u001b[36mFile \u001b[39m\u001b[32m~/peng_workspace/HackAtari/venv/lib/python3.11/site-packages/aim/ext/resource/tracker.py:32\u001b[39m, in \u001b[36mResourceTracker._install_stream_patches.<locals>.new_out_write\u001b[39m\u001b[34m(data)\u001b[39m\n\u001b[32m     31\u001b[39m \u001b[38;5;28;01mdef\u001b[39;00m\u001b[38;5;250m \u001b[39m\u001b[34mnew_out_write\u001b[39m(data):\n\u001b[32m---> \u001b[39m\u001b[32m32\u001b[39m     \u001b[38;5;28;43mcls\u001b[39;49m\u001b[43m.\u001b[49m\u001b[43m_old_out_write\u001b[49m\u001b[43m(\u001b[49m\u001b[43mdata\u001b[49m\u001b[43m)\u001b[49m\n\u001b[32m     33\u001b[39m     \u001b[38;5;28;01mif\u001b[39;00m \u001b[38;5;28misinstance\u001b[39m(data, \u001b[38;5;28mstr\u001b[39m):\n\u001b[32m     34\u001b[39m         data = data.encode()\n",
      "\u001b[36mFile \u001b[39m\u001b[32m~/peng_workspace/HackAtari/venv/lib/python3.11/site-packages/aim/ext/resource/tracker.py:32\u001b[39m, in \u001b[36mResourceTracker._install_stream_patches.<locals>.new_out_write\u001b[39m\u001b[34m(data)\u001b[39m\n\u001b[32m     31\u001b[39m \u001b[38;5;28;01mdef\u001b[39;00m\u001b[38;5;250m \u001b[39m\u001b[34mnew_out_write\u001b[39m(data):\n\u001b[32m---> \u001b[39m\u001b[32m32\u001b[39m     \u001b[38;5;28;43mcls\u001b[39;49m\u001b[43m.\u001b[49m\u001b[43m_old_out_write\u001b[49m\u001b[43m(\u001b[49m\u001b[43mdata\u001b[49m\u001b[43m)\u001b[49m\n\u001b[32m     33\u001b[39m     \u001b[38;5;28;01mif\u001b[39;00m \u001b[38;5;28misinstance\u001b[39m(data, \u001b[38;5;28mstr\u001b[39m):\n\u001b[32m     34\u001b[39m         data = data.encode()\n",
      "    \u001b[31m[... skipping similar frames: ResourceTracker._install_stream_patches.<locals>.new_out_write at line 32 (2968 times)]\u001b[39m\n",
      "\u001b[36mFile \u001b[39m\u001b[32m~/peng_workspace/HackAtari/venv/lib/python3.11/site-packages/aim/ext/resource/tracker.py:32\u001b[39m, in \u001b[36mResourceTracker._install_stream_patches.<locals>.new_out_write\u001b[39m\u001b[34m(data)\u001b[39m\n\u001b[32m     31\u001b[39m \u001b[38;5;28;01mdef\u001b[39;00m\u001b[38;5;250m \u001b[39m\u001b[34mnew_out_write\u001b[39m(data):\n\u001b[32m---> \u001b[39m\u001b[32m32\u001b[39m     \u001b[38;5;28;43mcls\u001b[39;49m\u001b[43m.\u001b[49m\u001b[43m_old_out_write\u001b[49m\u001b[43m(\u001b[49m\u001b[43mdata\u001b[49m\u001b[43m)\u001b[49m\n\u001b[32m     33\u001b[39m     \u001b[38;5;28;01mif\u001b[39;00m \u001b[38;5;28misinstance\u001b[39m(data, \u001b[38;5;28mstr\u001b[39m):\n\u001b[32m     34\u001b[39m         data = data.encode()\n",
      "\u001b[31mRecursionError\u001b[39m: maximum recursion depth exceeded"
     ]
    }
   ],
   "source": [
    "#clean history by re-initializing aim\n",
    "%aim init\n"
   ]
  },
  {
   "cell_type": "code",
   "execution_count": 119,
   "id": "50c1bbd8",
   "metadata": {},
   "outputs": [
    {
     "data": {
      "text/html": [
       "\n",
       "              <iframe id=\"aim\" width=\"100%\" height=\"800\" frameborder=\"0\" src=http://127.0.0.1:43801/notebook>\n",
       "              </iframe>\n",
       "            "
      ],
      "text/plain": [
       "<IPython.core.display.HTML object>"
      ]
     },
     "metadata": {},
     "output_type": "display_data"
    }
   ],
   "source": [
    "\n",
    "%aim up"
   ]
  }
 ],
 "metadata": {
  "kernelspec": {
   "display_name": "venv",
   "language": "python",
   "name": "python3"
  },
  "language_info": {
   "codemirror_mode": {
    "name": "ipython",
    "version": 3
   },
   "file_extension": ".py",
   "mimetype": "text/x-python",
   "name": "python",
   "nbconvert_exporter": "python",
   "pygments_lexer": "ipython3",
   "version": "3.11.11"
  }
 },
 "nbformat": 4,
 "nbformat_minor": 5
}
