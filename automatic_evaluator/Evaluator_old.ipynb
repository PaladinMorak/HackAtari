{
 "cells": [
  {
   "cell_type": "markdown",
   "id": "4a1cb837-dc43-411e-ba07-54154ed4c634",
   "metadata": {},
   "source": [
    "# Automatic Evaluator"
   ]
  },
  {
   "cell_type": "code",
   "execution_count": 79,
   "id": "07a86aeb-77ec-4868-9b9c-67ccfdb189e1",
   "metadata": {},
   "outputs": [],
   "source": [
    "%%capture\n",
    "#########################\n",
    "# Requirements and Imports\n",
    "#########################\n",
    "!pip install ipywidgets\n",
    "!pip install widgetsnbextension\n",
    "\n",
    "from os import path\n",
    "import ipywidgets as widgets\n",
    "from pathlib import Path\n",
    "\n",
    "import torch\n",
    "import numpy as np\n",
    "import random"
   ]
  },
  {
   "cell_type": "code",
   "execution_count": 80,
   "id": "2155d626-4e0c-44b1-9ee4-1a424916a69b",
   "metadata": {},
   "outputs": [
    {
     "data": {
      "application/vnd.jupyter.widget-view+json": {
       "model_id": "9fc76621833544719831ee739856cca1",
       "version_major": 2,
       "version_minor": 0
      },
      "text/plain": [
       "Checkbox(value=True, description='Reproducibility')"
      ]
     },
     "metadata": {},
     "output_type": "display_data"
    }
   ],
   "source": [
    "reproducibility_field = widgets.Checkbox(\n",
    "    value = True,\n",
    "    description = \"Reproducibility\",\n",
    "    disabled = False\n",
    ")\n",
    "display(reproducibility_field)"
   ]
  },
  {
   "cell_type": "code",
   "execution_count": 81,
   "id": "2dfd398b-cdbe-4a1b-a4fc-a2c7d6032028",
   "metadata": {},
   "outputs": [
    {
     "data": {
      "application/vnd.jupyter.widget-view+json": {
       "model_id": "31fa088503ea4138b187165ecb82c76a",
       "version_major": 2,
       "version_minor": 0
      },
      "text/plain": [
       "IntText(value=0, description='Seed:')"
      ]
     },
     "metadata": {},
     "output_type": "display_data"
    }
   ],
   "source": [
    "reproducibility = reproducibility_field.value\n",
    "if reproducibility:\n",
    "    seed_field = widgets.IntText(\n",
    "        value=0,\n",
    "        placeholder=0,\n",
    "        description=\"Seed:\",\n",
    "        disabled=False\n",
    "    )\n",
    "    display(seed_field)"
   ]
  },
  {
   "cell_type": "code",
   "execution_count": 82,
   "id": "82c5d65a-e6d0-4bb6-9bfa-10d9ac2df1d5",
   "metadata": {},
   "outputs": [
    {
     "name": "stdout",
     "output_type": "stream",
     "text": [
      "0\n"
     ]
    }
   ],
   "source": [
    "# Set seeds for PRGs\n",
    "\n",
    "reproducibility = reproducibility_field.value\n",
    "if reproducibility:\n",
    "    seed = seed_field.value\n",
    "    print(seed)\n",
    "    \n",
    "    random.seed(seed)\n",
    "    torch.manual_seed(seed)\n",
    "    np.random.seed(seed)\n",
    "    \n",
    "    # Use deterministic Algorithms\n",
    "    torch.use_deterministic_algorithms(True)\n",
    "    torch.utils.deterministic.fill_uninitialized_memory = True"
   ]
  },
  {
   "cell_type": "markdown",
   "id": "22bb008f-3cfa-4020-8fd6-f6180c0b5844",
   "metadata": {
    "editable": true,
    "slideshow": {
     "slide_type": ""
    },
    "tags": []
   },
   "source": [
    "## Game Selection"
   ]
  },
  {
   "cell_type": "code",
   "execution_count": 83,
   "id": "9e239221",
   "metadata": {},
   "outputs": [
    {
     "name": "stdout",
     "output_type": "stream",
     "text": [
      "['Adventure', 'AirRaid', 'Alien', 'Amidar', 'Assault', 'Asterix', 'Asteroids', 'Atlantis', 'BankHeist', 'BattleZone', 'BeamRider', 'Berzerk', 'Bowling', 'Boxing', 'Breakout', 'Carnival', 'Centipede', 'ChopperCommand', 'CrazyClimber', 'DemonAttack', 'DonkeyKong', 'DoubleDunk', 'Enduro', 'FishingDerby', 'Freeway', 'Frogger', 'Frostbite', 'Galaxian', 'Gopher', 'Hero', 'IceHockey', 'Jamesbond', 'Kangaroo', 'KeystoneKapers', 'KingKong', 'Krull', 'KungFuMaster', 'MarioBros', 'MontezumaRevenge', 'MsPacman', 'NameThisGame', 'Pacman', 'Phoenix', 'Pitfall', 'Pong', 'Pooyan', 'PrivateEye', 'Qbert', 'Riverraid', 'RoadRunner', 'Seaquest', 'Skiing', 'SpaceInvaders', 'StarGunner', 'Tennis', 'TimePilot', 'UpNDown', 'Venture', 'VideoPinball', 'YarsRevenge', 'Zaxxon']\n"
     ]
    }
   ],
   "source": [
    "import ocatari\n",
    "all_games = ocatari.core.AVAILABLE_GAMES\n",
    "print(all_games)"
   ]
  },
  {
   "cell_type": "code",
   "execution_count": 84,
   "id": "bd4a5969-bcfc-484f-802a-3df8a8de1763",
   "metadata": {
    "jupyter": {
     "source_hidden": true
    }
   },
   "outputs": [
    {
     "data": {
      "application/vnd.jupyter.widget-view+json": {
       "model_id": "b616f09b97d448769abca3bb967fc838",
       "version_major": 2,
       "version_minor": 0
      },
      "text/plain": [
       "Select(description='Game:', index=21, layout=Layout(width='30%'), options=('Amidar', 'Assault', 'Asterix', 'At…"
      ]
     },
     "metadata": {},
     "output_type": "display_data"
    }
   ],
   "source": [
    "hack_games = [x.name.replace('.py', '') for x in Path('../hackatari/games').glob('*.py') if x.is_file() and x.name != '__init__.py']\n",
    "\n",
    "games_option = []\n",
    "for g in all_games:\n",
    "    if g.lower() in hack_games:\n",
    "        games_option.append(g)\n",
    "\n",
    "\n",
    "game_selector = widgets.Select(\n",
    "    options = games_option,\n",
    "    value = \"Pong\",\n",
    "    description = 'Game:',\n",
    "    disabled = False,\n",
    ")\n",
    "game_selector.layout.width = '30%'\n",
    "display(game_selector)"
   ]
  },
  {
   "cell_type": "code",
   "execution_count": 85,
   "id": "94d47732-3147-492e-8db4-746b16b2431b",
   "metadata": {},
   "outputs": [
    {
     "data": {
      "text/plain": [
       "'Pong'"
      ]
     },
     "execution_count": 85,
     "metadata": {},
     "output_type": "execute_result"
    }
   ],
   "source": [
    "selected_game = game_selector.value\n",
    "selected_game"
   ]
  },
  {
   "cell_type": "markdown",
   "id": "4797d52b-ee5a-44c9-ad17-fbf7e9007e1d",
   "metadata": {},
   "source": [
    "# Model Selection"
   ]
  },
  {
   "cell_type": "code",
   "execution_count": 86,
   "id": "bf06c346-ff9c-4d6c-8351-119079a4608a",
   "metadata": {},
   "outputs": [
    {
     "data": {
      "application/vnd.jupyter.widget-view+json": {
       "model_id": "a5c5718927304dffa07983ca3e73642c",
       "version_major": 2,
       "version_minor": 0
      },
      "text/plain": [
       "Select(description='Select Model:', layout=Layout(width='30%'), options=(WindowsPath('../models/Pong/0/c51_cla…"
      ]
     },
     "metadata": {},
     "output_type": "display_data"
    }
   ],
   "source": [
    "models = [m for m in Path('../models').glob('**/*.gz') if m.is_file() and selected_game.lower() in str(m).lower()]\n",
    "\n",
    "model_selector = widgets.Select(\n",
    "    options=models,\n",
    "    value=None,\n",
    "    description=\"Select Model:\",\n",
    "    disabled=False\n",
    ")\n",
    "model_selector.layout.width = '30%'\n",
    "display(model_selector)\n"
   ]
  },
  {
   "cell_type": "code",
   "execution_count": 93,
   "id": "fd341552",
   "metadata": {},
   "outputs": [
    {
     "data": {
      "text/plain": [
       "WindowsPath('../models/Pong/0/c51_classic_50M.gz')"
      ]
     },
     "execution_count": 93,
     "metadata": {},
     "output_type": "execute_result"
    }
   ],
   "source": [
    "model_path = model_selector.value\n",
    "model_path"
   ]
  },
  {
   "cell_type": "markdown",
   "id": "da9a3f29",
   "metadata": {},
   "source": [
    "# Add Run Arguments"
   ]
  },
  {
   "cell_type": "code",
   "execution_count": 94,
   "id": "c6d5d160",
   "metadata": {},
   "outputs": [
    {
     "data": {
      "application/vnd.jupyter.widget-view+json": {
       "model_id": "49ca06ab53c54337817b5e6b22355b53",
       "version_major": 2,
       "version_minor": 0
      },
      "text/plain": [
       "HBox(children=(Text(value='--human', description='Let user play', disabled=True), Dropdown(description='Type:'…"
      ]
     },
     "metadata": {},
     "output_type": "display_data"
    }
   ],
   "source": [
    "# Human player option. If True, the game will wait for user input to play.\n",
    "human_player = widgets.HBox([\n",
    "    widgets.Text(value='--human', description='Let user play', disabled=True),\n",
    "    widgets.Dropdown(options=[True, False], value=False, description='Type:', disabled=False)\n",
    "])\n",
    "\n",
    "display(human_player)"
   ]
  },
  {
   "cell_type": "code",
   "execution_count": 95,
   "id": "f1139797",
   "metadata": {},
   "outputs": [],
   "source": [
    "human_opt = '-hu' if human_player.children[1].value else None"
   ]
  },
  {
   "cell_type": "code",
   "execution_count": 103,
   "id": "fd1e3323",
   "metadata": {},
   "outputs": [
    {
     "data": {
      "application/vnd.jupyter.widget-view+json": {
       "model_id": "e3e8be11f9604bb6a055819736cf4cbd",
       "version_major": 2,
       "version_minor": 0
      },
      "text/plain": [
       "VBox(children=(HBox(children=(Label(value=' down_drift', layout=Layout(width='10%')), Label(value='\\n\\tMakes t…"
      ]
     },
     "metadata": {},
     "output_type": "display_data"
    }
   ],
   "source": [
    "import hackatari.core as core\n",
    "\n",
    "avail_mod_for_game = core._available_modifications(selected_game).split('*')[1:]\n",
    "modifies_list = [mod.split(':') for mod in avail_mod_for_game]\n",
    "\n",
    "modifies_selector = widgets.VBox([\n",
    "        widgets.HBox([\n",
    "            widgets.Label(value=mod_name, layout={'width': '10%'}),\n",
    "            widgets.Label(value=mod_info, layout={'width': '45%'}),\n",
    "            widgets.Dropdown(options=[True, False], value=False, description='Value:',layout={'width': '15%'}, justify_content = 'flex-end')\n",
    "        ], justify_content = 'space-between') for mod_name, mod_info in modifies_list\n",
    "    ], layout={'width': '70%'})\n",
    "\n",
    "display(modifies_selector)"
   ]
  },
  {
   "cell_type": "code",
   "execution_count": 104,
   "id": "56c46c81",
   "metadata": {},
   "outputs": [
    {
     "data": {
      "text/plain": [
       "'lazy_enemy'"
      ]
     },
     "execution_count": 104,
     "metadata": {},
     "output_type": "execute_result"
    }
   ],
   "source": [
    "mod_args = ' '.join([f'{mod.children[0].value.strip()}' for mod in modifies_selector.children if mod.children[2].value])\n",
    "mod_args"
   ]
  },
  {
   "cell_type": "markdown",
   "id": "46b96acf-2684-478f-8ad2-c3f435dd12de",
   "metadata": {},
   "source": [
    "# Run Game"
   ]
  },
  {
   "cell_type": "code",
   "execution_count": null,
   "id": "ce1f14b4",
   "metadata": {},
   "outputs": [
    {
     "name": "stdout",
     "output_type": "stream",
     "text": [
      "Project Root: f:\\Studium\\TUD_WS2024\\LabKI\\workspace\\forked\\HackAtari\n",
      "command: python f:/Studium/TUD_WS2024/LabKI/workspace/forked/HackAtari/scripts/eval.py -g Pong -a ../models/Pong/0/c51_classic_50M.gz lazy_enemy\n"
     ]
    }
   ],
   "source": [
    "## prepare the command\n",
    "eval_script = Path(r\"scripts/eval.py\")\n",
    "run_script = Path(r\"scripts/run.py\")\n",
    "\n",
    "project_root = path.dirname(path.abspath(\"\"))\n",
    "print(f\"Project Root: {project_root}\")\n",
    "\n",
    "# use posix_paths compatibile with the OS\n",
    "eval_path = (Path(project_root) / eval_script).as_posix()\n",
    "run_path = (Path(project_root) / run_script).as_posix()\n",
    "model_path = Path(model_path).as_posix() if model_path is not None else ''\n",
    "\n",
    "if human_opt:\n",
    "    command = f\"python {run_path} -g {selected_game} {human_opt}\"\n",
    "else:\n",
    "    assert path.isfile(model_path), \"For eval, agent model file is required\"\n",
    "    command = f\"python {eval_path} -g {selected_game} -a {model_path} {mod_args}\"\n",
    "\n",
    "print(\"command: \" + command)\n"
   ]
  },
  {
   "cell_type": "code",
   "execution_count": null,
   "id": "2ae04dca",
   "metadata": {},
   "outputs": [
    {
     "name": "stdout",
     "output_type": "stream",
     "text": [
      "Loaded agent from ../models/Pong/0/c51_classic_50M.gz"
     ]
    },
    {
     "name": "stderr",
     "output_type": "stream",
     "text": [
      "A.L.E: Arcade Learning Environment (version 0.10.2+c9d4b19)\n",
      "[Powered by Stella]\n"
     ]
    },
    {
     "name": "stdout",
     "output_type": "stream",
     "text": [
      "\n",
      "Episode 1: Reward = -17.0\n",
      "Episode 2: Reward = 5.0\n",
      "Episode 3: Reward = -6.0\n",
      "Episode 4: Reward = -1.0\n",
      "Episode 5: Reward = -14.0\n",
      "Episode 6: Reward = -3.0\n",
      "Episode 7: Reward = -5.0\n",
      "Episode 8: Reward = 3.0\n",
      "Episode 9: Reward = -5.0\n",
      "Episode 10: Reward = -11.0\n",
      "\n",
      "Summary:\n",
      "Agent: ../models/Pong/0/c51_classic_50M.gz\n",
      "Total Episodes: 10\n",
      "Average Reward: -5.40\n",
      "Standard Deviation: 6.67\n",
      "Min Reward: -17.0\n",
      "Max Reward: 5.0\n",
      "--------------------------------------\n",
      "------------------------------------------------\n",
      "Overall Average Reward: -5.40\n",
      "Overall Standard Deviation: 6.67\n",
      "------------------------------------------------\n"
     ]
    }
   ],
   "source": [
    "# execute the command\n",
    "!{command}"
   ]
  },
  {
   "cell_type": "markdown",
   "id": "9172756d-9aaa-4214-8d8d-2dfe8a6264c8",
   "metadata": {},
   "source": [
    "# Evaluation"
   ]
  },
  {
   "cell_type": "code",
   "execution_count": null,
   "id": "cb732699-43e9-4ccb-b8c8-aac2f843e3c1",
   "metadata": {},
   "outputs": [],
   "source": []
  }
 ],
 "metadata": {
  "kernelspec": {
   "display_name": "venv",
   "language": "python",
   "name": "python3"
  },
  "language_info": {
   "codemirror_mode": {
    "name": "ipython",
    "version": 3
   },
   "file_extension": ".py",
   "mimetype": "text/x-python",
   "name": "python",
   "nbconvert_exporter": "python",
   "pygments_lexer": "ipython3",
   "version": "3.10.11"
  }
 },
 "nbformat": 4,
 "nbformat_minor": 5
}
