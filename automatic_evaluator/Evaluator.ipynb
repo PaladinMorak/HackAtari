{
 "cells": [
  {
   "cell_type": "markdown",
   "id": "4a1cb837-dc43-411e-ba07-54154ed4c634",
   "metadata": {},
   "source": [
    "# Automatic Evaluator"
   ]
  },
  {
   "cell_type": "code",
   "execution_count": 31,
   "id": "07a86aeb-77ec-4868-9b9c-67ccfdb189e1",
   "metadata": {},
   "outputs": [],
   "source": [
    "%%capture\n",
    "#########################\n",
    "# Requirements and Imports\n",
    "#########################\n",
    "!pip install ipywidgets\n",
    "!pip install widgetsnbextension\n",
    "\n",
    "import ipywidgets as widgets\n",
    "from pathlib import Path\n",
    "\n",
    "import torch\n",
    "import numpy as np\n",
    "import random"
   ]
  },
  {
   "cell_type": "code",
   "execution_count": 32,
   "id": "0e290276-8031-4426-9990-4a77bcfb0334",
   "metadata": {},
   "outputs": [],
   "source": [
    "##############################################\n",
    "# Default Value Initialization\n",
    "##############################################\n",
    "\n",
    "games = [x.name.replace('.py', '') for x in Path('../hackatari/games').glob('**/*') if x.is_file() and x.name != '__init__.py']\n",
    "\n",
    "game = 'pong'\n",
    "model_path = 'model.gz'"
   ]
  },
  {
   "cell_type": "code",
   "execution_count": 33,
   "id": "2dfd398b-cdbe-4a1b-a4fc-a2c7d6032028",
   "metadata": {},
   "outputs": [],
   "source": [
    "##############################################\n",
    "# Helper Methods\n",
    "##############################################\n",
    "\n",
    "def set_seed(reproducibility: bool=True, seed_value: int =0):\n",
    "    if reproducibility:\n",
    "        random.seed(seed_value)\n",
    "        torch.manual_seed(seed_value)\n",
    "        np.random.seed(seed_value)\n",
    "        \n",
    "        # Use deterministic Algorithms\n",
    "        torch.use_deterministic_algorithms(True)\n",
    "        torch.utils.deterministic.fill_uninitialized_memory = True\n",
    "\n",
    "def set_game(game_value='pong'):\n",
    "    game = game_value\n",
    "\n",
    "def set_model_path(model_path_value='model.gz'):\n",
    "    model_path = model_path_value"
   ]
  },
  {
   "cell_type": "code",
   "execution_count": 34,
   "id": "2155d626-4e0c-44b1-9ee4-1a424916a69b",
   "metadata": {},
   "outputs": [],
   "source": [
    "##############################################\n",
    "# Widget Creation, interactivity, layout\n",
    "##############################################\n",
    "\n",
    "# Create Widgets\n",
    "reproducibility_widget = widgets.Checkbox(\n",
    "    value = True,\n",
    "    description = \"Reproducibility\",\n",
    "    disabled = False\n",
    ")\n",
    "\n",
    "seed_widget = widgets.IntText(\n",
    "    value=0,\n",
    "    placeholder=0,\n",
    "    description=\"Seed:\",\n",
    "    disabled=False\n",
    ")\n",
    "\n",
    "model_path_widget = widgets.Text(\n",
    "    value='model.gz',\n",
    "    placeholder='Model Path',\n",
    "    description=\"Model Path:\",\n",
    "    disabled=False\n",
    ")\n",
    "\n",
    "game_selector_widget = widgets.Select(\n",
    "    options = games,\n",
    "    value = \"pong\",\n",
    "    description = 'Game:',\n",
    "    disabled = False,\n",
    ")\n",
    "\n",
    "# Create Views\n",
    "reproducibility_view = widgets.interactive(set_seed, reproducibility=reproducibility_widget, seed_value=seed_widget)\n",
    "model_path_view = widgets.interactive(set_model_path, model_value=model_path_widget)\n",
    "game_selector_view = widgets.interactive(set_game, game_value=game_selector_widget)\n",
    "\n",
    "reproducibility_widget.observe(lambda x: reproducibility_view.update(), 'value')\n",
    "seed_widget.observe(lambda x: reproducibility_view.update(), 'value')\n",
    "model_path_widget.observe(lambda x: uploader_view.update(), 'value')\n",
    "game_selector_widget.observe(lambda x: game_selector_view.update(), 'value')\n",
    "\n",
    "\n",
    "grid = widgets.GridspecLayout(3,1, layout=widgets.Layout(justify_content='center'))\n",
    "grid[0,0] = reproducibility_view\n",
    "grid[1,0] = model_path_view\n",
    "grid[2,0] = game_selector_view"
   ]
  },
  {
   "cell_type": "code",
   "execution_count": 35,
   "id": "d70da43f-fe67-49b7-9ada-7bae6086d6c8",
   "metadata": {},
   "outputs": [],
   "source": [
    "##############################################\n",
    "# Make the App\n",
    "##############################################\n",
    "\n",
    "app_contents = [grid]\n",
    "app = widgets.VBox(app_contents, layout=widgets.Layout(max_width='1024px', margin='0 auto 0 auto'))"
   ]
  },
  {
   "cell_type": "code",
   "execution_count": 36,
   "id": "2d5c07be-ad3a-4fc5-987c-f84a1f40b9ff",
   "metadata": {},
   "outputs": [
    {
     "data": {
      "application/vnd.jupyter.widget-view+json": {
       "model_id": "87be6eed815543859cf79c153fc1cb3d",
       "version_major": 2,
       "version_minor": 0
      },
      "text/plain": [
       "VBox(children=(GridspecLayout(children=(interactive(children=(Checkbox(value=True, description='Reproducibilit…"
      ]
     },
     "metadata": {},
     "output_type": "display_data"
    }
   ],
   "source": [
    "display(app)"
   ]
  },
  {
   "cell_type": "code",
   "execution_count": null,
   "id": "cb732699-43e9-4ccb-b8c8-aac2f843e3c1",
   "metadata": {},
   "outputs": [],
   "source": []
  }
 ],
 "metadata": {
  "kernelspec": {
   "display_name": "Python 3 (ipykernel)",
   "language": "python",
   "name": "python3"
  },
  "language_info": {
   "codemirror_mode": {
    "name": "ipython",
    "version": 3
   },
   "file_extension": ".py",
   "mimetype": "text/x-python",
   "name": "python",
   "nbconvert_exporter": "python",
   "pygments_lexer": "ipython3",
   "version": "3.13.1"
  }
 },
 "nbformat": 4,
 "nbformat_minor": 5
}
