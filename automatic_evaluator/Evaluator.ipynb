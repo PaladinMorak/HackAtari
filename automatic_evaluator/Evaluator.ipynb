{
 "cells": [
  {
   "cell_type": "markdown",
   "id": "4a1cb837-dc43-411e-ba07-54154ed4c634",
   "metadata": {},
   "source": [
    "# Automatic Evaluator"
   ]
  },
  {
   "cell_type": "markdown",
   "id": "8ff0b9b7-a5b4-485a-8962-147a6bd70973",
   "metadata": {},
   "source": [
    "### Requirements"
   ]
  },
  {
   "cell_type": "code",
   "execution_count": 1,
   "id": "07a86aeb-77ec-4868-9b9c-67ccfdb189e1",
   "metadata": {},
   "outputs": [],
   "source": [
    "%%capture\n",
    "!pip install ipywidgets\n",
    "!pip install widgetsnbextension\n",
    "\n",
    "import ipywidgets as widgets\n",
    "from pathlib import Path"
   ]
  },
  {
   "cell_type": "markdown",
   "id": "f5d9f2fe-3dc4-4060-bc46-a2c02d4c78d4",
   "metadata": {},
   "source": [
    "## Reproducibility"
   ]
  },
  {
   "cell_type": "code",
   "execution_count": 11,
   "id": "05faa74f-4f98-479d-81f1-7e423598fa69",
   "metadata": {},
   "outputs": [
    {
     "data": {
      "application/vnd.jupyter.widget-view+json": {
       "model_id": "ce9ee7049a2d48a2a20a7f42ae3ba2e2",
       "version_major": 2,
       "version_minor": 0
      },
      "text/plain": [
       "Checkbox(value=True, description='Reproducibility')"
      ]
     },
     "metadata": {},
     "output_type": "display_data"
    }
   ],
   "source": [
    "reproducibility_field = widgets.Checkbox(\n",
    "    value = True,\n",
    "    description = \"Reproducibility\",\n",
    "    disabled = False\n",
    ")\n",
    "display(reproducibility_field)"
   ]
  },
  {
   "cell_type": "code",
   "execution_count": 23,
   "id": "2dfd398b-cdbe-4a1b-a4fc-a2c7d6032028",
   "metadata": {},
   "outputs": [
    {
     "data": {
      "application/vnd.jupyter.widget-view+json": {
       "model_id": "eb0eac9e69cb49ffa7edb57ae06ff9fd",
       "version_major": 2,
       "version_minor": 0
      },
      "text/plain": [
       "IntText(value=0, description='Seed:')"
      ]
     },
     "metadata": {},
     "output_type": "display_data"
    }
   ],
   "source": [
    "reproducibility = reproducibility_field.value\n",
    "if reproducibility:\n",
    "    seed_field = widgets.IntText(\n",
    "        value=0,\n",
    "        placeholder=0,\n",
    "        description=\"Seed:\",\n",
    "        disabled=False\n",
    "    )\n",
    "    display(seed_field)"
   ]
  },
  {
   "cell_type": "code",
   "execution_count": 28,
   "id": "82c5d65a-e6d0-4bb6-9bfa-10d9ac2df1d5",
   "metadata": {},
   "outputs": [
    {
     "name": "stdout",
     "output_type": "stream",
     "text": [
      "0\n"
     ]
    }
   ],
   "source": [
    "# Set seeds for PRGs\n",
    "import torch\n",
    "import numpy as np\n",
    "import random\n",
    "\n",
    "reproducibility = reproducibility_field.value\n",
    "if reproducibility:\n",
    "    seed = seed_field.value\n",
    "    print(seed)\n",
    "    \n",
    "    random.seed(seed)\n",
    "    torch.manual_seed(seed)\n",
    "    np.random.seed(seed)\n",
    "    \n",
    "    # Use deterministic Algorithms\n",
    "    torch.use_deterministic_algorithms(True)\n",
    "    torch.utils.deterministic.fill_uninitialized_memory = True"
   ]
  },
  {
   "cell_type": "markdown",
   "id": "4797d52b-ee5a-44c9-ad17-fbf7e9007e1d",
   "metadata": {},
   "source": [
    "## Model Upload"
   ]
  },
  {
   "cell_type": "code",
   "execution_count": 2,
   "id": "614cbd6f-c516-41f4-9e96-8f8c41520700",
   "metadata": {
    "editable": true,
    "slideshow": {
     "slide_type": ""
    },
    "tags": [
     "hide-input"
    ]
   },
   "outputs": [
    {
     "data": {
      "application/vnd.jupyter.widget-view+json": {
       "model_id": "2869f600eeb64db1ac7e36fc554e2c40",
       "version_major": 2,
       "version_minor": 0
      },
      "text/plain": [
       "Text(value='model.gz', description='Model Path:', placeholder='Model Path')"
      ]
     },
     "metadata": {},
     "output_type": "display_data"
    }
   ],
   "source": [
    "uploader = widgets.Text(\n",
    "    value='model.gz',\n",
    "    placeholder='Model Path',\n",
    "    description=\"Model Path:\",\n",
    "    disabled=False\n",
    ")\n",
    "display(uploader)"
   ]
  },
  {
   "cell_type": "code",
   "execution_count": 3,
   "id": "bf06c346-ff9c-4d6c-8351-119079a4608a",
   "metadata": {},
   "outputs": [
    {
     "data": {
      "text/plain": [
       "'model.gz'"
      ]
     },
     "execution_count": 3,
     "metadata": {},
     "output_type": "execute_result"
    }
   ],
   "source": [
    "model_path = uploader.value\n",
    "model_path"
   ]
  },
  {
   "cell_type": "markdown",
   "id": "22bb008f-3cfa-4020-8fd6-f6180c0b5844",
   "metadata": {
    "editable": true,
    "slideshow": {
     "slide_type": ""
    },
    "tags": []
   },
   "source": [
    "## Game Selection"
   ]
  },
  {
   "cell_type": "code",
   "execution_count": 4,
   "id": "bd4a5969-bcfc-484f-802a-3df8a8de1763",
   "metadata": {
    "jupyter": {
     "source_hidden": true
    }
   },
   "outputs": [
    {
     "data": {
      "application/vnd.jupyter.widget-view+json": {
       "model_id": "4d35c373fce549d3987f12f1156c13be",
       "version_major": 2,
       "version_minor": 0
      },
      "text/plain": [
       "Select(description='Game:', index=12, options=('yarsrevenge', 'doubledunk', 'fishingderby', 'breakout', 'freew…"
      ]
     },
     "metadata": {},
     "output_type": "display_data"
    }
   ],
   "source": [
    "games = [x.name.replace('.py', '') for x in Path('../hackatari/games').glob('**/*') if x.is_file() and x.name != '__init__.py']\n",
    "\n",
    "game_selector = widgets.Select(\n",
    "    options = games,\n",
    "    value = \"pong\",\n",
    "    description = 'Game:',\n",
    "    disabled = False,\n",
    ")\n",
    "display(game_selector)"
   ]
  },
  {
   "cell_type": "code",
   "execution_count": 5,
   "id": "94d47732-3147-492e-8db4-746b16b2431b",
   "metadata": {},
   "outputs": [],
   "source": [
    "selected_game = game_selector.value"
   ]
  },
  {
   "cell_type": "markdown",
   "id": "46b96acf-2684-478f-8ad2-c3f435dd12de",
   "metadata": {},
   "source": [
    "# Run Game"
   ]
  },
  {
   "cell_type": "code",
   "execution_count": 6,
   "id": "103c4394-c0e1-4b75-b89e-b1fc772e39b8",
   "metadata": {},
   "outputs": [
    {
     "name": "stdout",
     "output_type": "stream",
     "text": [
      "Running Game: pong with model located at: model.gz\n"
     ]
    }
   ],
   "source": [
    "print(f\"Running Game: {selected_game} with model located at: {model_path}\")"
   ]
  },
  {
   "cell_type": "markdown",
   "id": "9172756d-9aaa-4214-8d8d-2dfe8a6264c8",
   "metadata": {},
   "source": [
    "# Evaluation"
   ]
  },
  {
   "cell_type": "code",
   "execution_count": null,
   "id": "e2d0d1ec-7a1e-4dbb-b7d3-9d50acded794",
   "metadata": {},
   "outputs": [],
   "source": []
  }
 ],
 "metadata": {
  "kernelspec": {
   "display_name": "Python 3 (ipykernel)",
   "language": "python",
   "name": "python3"
  },
  "language_info": {
   "codemirror_mode": {
    "name": "ipython",
    "version": 3
   },
   "file_extension": ".py",
   "mimetype": "text/x-python",
   "name": "python",
   "nbconvert_exporter": "python",
   "pygments_lexer": "ipython3",
   "version": "3.13.1"
  }
 },
 "nbformat": 4,
 "nbformat_minor": 5
}
